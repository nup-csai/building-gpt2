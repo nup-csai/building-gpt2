{
 "cells": [
  {
   "cell_type": "code",
   "execution_count": 1,
   "id": "initial_id",
   "metadata": {
    "collapsed": true,
    "ExecuteTime": {
     "end_time": "2024-02-08T16:00:28.794459Z",
     "start_time": "2024-02-08T16:00:27.639499900Z"
    }
   },
   "outputs": [],
   "source": [
    "import torch\n",
    "import numpy as np"
   ]
  },
  {
   "cell_type": "code",
   "execution_count": 2,
   "outputs": [
    {
     "name": "stdout",
     "output_type": "stream",
     "text": [
      "tensor([[1, 2],\n",
      "        [3, 4]])\n"
     ]
    }
   ],
   "source": [
    "#1\n",
    "#Tensors can be created directly from data. The data type is automatically inferred.\n",
    "data = [[1, 2],[3, 4]]\n",
    "x_data = torch.tensor(data)\n",
    "print(x_data)"
   ],
   "metadata": {
    "collapsed": false,
    "ExecuteTime": {
     "end_time": "2024-02-08T16:00:28.870575900Z",
     "start_time": "2024-02-08T16:00:28.801510800Z"
    }
   },
   "id": "e16310b3a4379ed8"
  },
  {
   "cell_type": "code",
   "execution_count": 3,
   "outputs": [
    {
     "name": "stdout",
     "output_type": "stream",
     "text": [
      "tensor([[1, 2],\n",
      "        [3, 4]], dtype=torch.int32)\n"
     ]
    }
   ],
   "source": [
    "#2\n",
    "#Tensors can be created from NumPy arrays:\n",
    "np_array = np.array(data)\n",
    "x_np = torch.from_numpy(np_array)\n",
    "print(x_np)"
   ],
   "metadata": {
    "collapsed": false,
    "ExecuteTime": {
     "end_time": "2024-02-08T16:00:28.871520100Z",
     "start_time": "2024-02-08T16:00:28.828504400Z"
    }
   },
   "id": "eb11dc54e3be6512"
  },
  {
   "cell_type": "code",
   "execution_count": 4,
   "outputs": [
    {
     "name": "stdout",
     "output_type": "stream",
     "text": [
      "tensor([[1, 1],\n",
      "        [1, 1]])\n"
     ]
    }
   ],
   "source": [
    "#3\n",
    "#From another tensor:\n",
    "x_ones = torch.ones_like(x_data) # retains the properties of x_data\n",
    "print(x_ones)"
   ],
   "metadata": {
    "collapsed": false,
    "ExecuteTime": {
     "end_time": "2024-02-08T16:00:28.871520100Z",
     "start_time": "2024-02-08T16:00:28.845460900Z"
    }
   },
   "id": "77dbd4519f7b8cdb"
  },
  {
   "cell_type": "code",
   "execution_count": 5,
   "outputs": [
    {
     "name": "stdout",
     "output_type": "stream",
     "text": [
      "Shape of tensor: torch.Size([3, 4])\n",
      "Datatype of tensor: torch.float32\n",
      "Device tensor is stored on: cpu\n"
     ]
    }
   ],
   "source": [
    "#4\n",
    "tensor = torch.ones(3,4)\n",
    "\n",
    "print(f\"Shape of tensor: {tensor.shape}\")\n",
    "print(f\"Datatype of tensor: {tensor.dtype}\")\n",
    "print(f\"Device tensor is stored on: {tensor.device}\")"
   ],
   "metadata": {
    "collapsed": false,
    "ExecuteTime": {
     "end_time": "2024-02-08T16:00:28.883547Z",
     "start_time": "2024-02-08T16:00:28.868510500Z"
    }
   },
   "id": "52e7f914aaa14739"
  },
  {
   "cell_type": "code",
   "execution_count": 6,
   "outputs": [
    {
     "name": "stdout",
     "output_type": "stream",
     "text": [
      "tensor([[1., 0., 1., 1.],\n",
      "        [1., 0., 1., 1.],\n",
      "        [1., 0., 1., 1.],\n",
      "        [1., 0., 1., 1.]])\n"
     ]
    }
   ],
   "source": [
    "#5\n",
    "tensor = torch.ones(4, 4)\n",
    "tensor[:,1] = 0\n",
    "print(tensor)"
   ],
   "metadata": {
    "collapsed": false,
    "ExecuteTime": {
     "end_time": "2024-02-08T16:00:28.891472300Z",
     "start_time": "2024-02-08T16:00:28.875517900Z"
    }
   },
   "id": "3a2cccc66b011011"
  },
  {
   "cell_type": "code",
   "execution_count": 7,
   "outputs": [
    {
     "name": "stdout",
     "output_type": "stream",
     "text": [
      "tensor([[1., 0., 1., 1., 1., 0., 1., 1., 1., 0., 1., 1.],\n",
      "        [1., 0., 1., 1., 1., 0., 1., 1., 1., 0., 1., 1.],\n",
      "        [1., 0., 1., 1., 1., 0., 1., 1., 1., 0., 1., 1.],\n",
      "        [1., 0., 1., 1., 1., 0., 1., 1., 1., 0., 1., 1.]])\n"
     ]
    }
   ],
   "source": [
    "#6\n",
    "t1 = torch.cat([tensor, tensor, tensor], dim=1)\n",
    "print(t1)"
   ],
   "metadata": {
    "collapsed": false,
    "ExecuteTime": {
     "end_time": "2024-02-08T16:00:28.998500800Z",
     "start_time": "2024-02-08T16:00:28.894507300Z"
    }
   },
   "id": "becdb713782a89a8"
  },
  {
   "cell_type": "code",
   "execution_count": 8,
   "outputs": [
    {
     "name": "stdout",
     "output_type": "stream",
     "text": [
      "tensor([[4., 4., 4., 4.],\n",
      "        [4., 4., 4., 4.],\n",
      "        [4., 4., 4., 4.],\n",
      "        [4., 4., 4., 4.]])\n",
      "tensor([[1., 1., 1., 1.],\n",
      "        [1., 1., 1., 1.],\n",
      "        [1., 1., 1., 1.],\n",
      "        [1., 1., 1., 1.]])\n"
     ]
    }
   ],
   "source": [
    "#7\n",
    "tensor = torch.ones(4, 4)\n",
    "y1 = tensor @ tensor.T\n",
    "y2 = tensor * tensor.T\n",
    "print(y1)\n",
    "print(y2)"
   ],
   "metadata": {
    "collapsed": false,
    "ExecuteTime": {
     "end_time": "2024-02-08T16:00:29.011511200Z",
     "start_time": "2024-02-08T16:00:28.909463500Z"
    }
   },
   "id": "88d6e63b146bb7a9"
  },
  {
   "cell_type": "code",
   "execution_count": 9,
   "outputs": [
    {
     "name": "stdout",
     "output_type": "stream",
     "text": [
      "tensor([[0.9101, 0.5542, 0.5942, 0.0215],\n",
      "        [0.1493, 0.2214, 0.8814, 0.3105],\n",
      "        [0.5179, 0.7809, 0.8031, 0.4925],\n",
      "        [0.9049, 0.1583, 0.4884, 0.4462]])\n",
      "tensor(8.2348)\n"
     ]
    }
   ],
   "source": [
    "#8\n",
    "y3 = torch.rand_like(y1)\n",
    "print(y3)\n",
    "agg = y3.sum()\n",
    "print(agg)"
   ],
   "metadata": {
    "collapsed": false,
    "ExecuteTime": {
     "end_time": "2024-02-08T16:00:29.012542400Z",
     "start_time": "2024-02-08T16:00:28.925524400Z"
    }
   },
   "id": "68d8dff236457542"
  },
  {
   "cell_type": "code",
   "execution_count": 10,
   "outputs": [
    {
     "name": "stdout",
     "output_type": "stream",
     "text": [
      "t: tensor([1., 1., 1., 1., 1.])\n",
      "n: [1. 1. 1. 1. 1.]\n"
     ]
    }
   ],
   "source": [
    "#9\n",
    "t = torch.ones(5)\n",
    "print(f\"t: {t}\")\n",
    "n = t.numpy()\n",
    "print(f\"n: {n}\")"
   ],
   "metadata": {
    "collapsed": false,
    "ExecuteTime": {
     "end_time": "2024-02-08T16:00:29.012542400Z",
     "start_time": "2024-02-08T16:00:28.938464400Z"
    }
   },
   "id": "ee73c71c32467ad9"
  },
  {
   "cell_type": "code",
   "execution_count": 11,
   "outputs": [
    {
     "name": "stdout",
     "output_type": "stream",
     "text": [
      "t: tensor([2., 2., 2., 2., 2.])\n",
      "n: [2. 2. 2. 2. 2.]\n"
     ]
    }
   ],
   "source": [
    "#10\n",
    "# A change in the tensor reflects in the NumPy array.\n",
    "t.add_(1)\n",
    "print(f\"t: {t}\")\n",
    "print(f\"n: {n}\")"
   ],
   "metadata": {
    "collapsed": false,
    "ExecuteTime": {
     "end_time": "2024-02-08T16:00:29.013499700Z",
     "start_time": "2024-02-08T16:00:28.955495500Z"
    }
   },
   "id": "45cf25afe8f55af5"
  },
  {
   "cell_type": "code",
   "execution_count": 12,
   "outputs": [
    {
     "name": "stdout",
     "output_type": "stream",
     "text": [
      "t: tensor([2., 2., 2., 2., 2.], dtype=torch.float64)\n",
      "n: [2. 2. 2. 2. 2.]\n"
     ]
    }
   ],
   "source": [
    "#11\n",
    "n = np.ones(5)\n",
    "t = torch.from_numpy(n)\n",
    "# Changes in the NumPy array reflects in the tensor.\n",
    "np.add(n, 1, out=n)\n",
    "print(f\"t: {t}\")\n",
    "print(f\"n: {n}\")"
   ],
   "metadata": {
    "collapsed": false,
    "ExecuteTime": {
     "end_time": "2024-02-08T16:00:29.013499700Z",
     "start_time": "2024-02-08T16:00:28.971508100Z"
    }
   },
   "id": "1032d15ceec2f3cc"
  },
  {
   "cell_type": "code",
   "execution_count": 13,
   "outputs": [
    {
     "name": "stdout",
     "output_type": "stream",
     "text": [
      "Using cpu device\n"
     ]
    }
   ],
   "source": [
    "#12\n",
    "import os\n",
    "from torch import nn\n",
    "from torch.utils.data import DataLoader\n",
    "from torchvision import datasets, transforms\n",
    "\n",
    "device = (\n",
    "    \"cuda\"\n",
    "    if torch.cuda.is_available()\n",
    "    else \"mps\"\n",
    "    if torch.backends.mps.is_available()\n",
    "    else \"cpu\"\n",
    ")\n",
    "print(f\"Using {device} device\")"
   ],
   "metadata": {
    "collapsed": false,
    "ExecuteTime": {
     "end_time": "2024-02-08T16:00:29.622457200Z",
     "start_time": "2024-02-08T16:00:28.987503700Z"
    }
   },
   "id": "f975b283dbad61f0"
  },
  {
   "cell_type": "code",
   "execution_count": 14,
   "outputs": [
    {
     "name": "stdout",
     "output_type": "stream",
     "text": [
      "NeuralNetwork(\n",
      "  (flatten): Flatten(start_dim=1, end_dim=-1)\n",
      "  (linear_relu_stack): Sequential(\n",
      "    (0): Linear(in_features=784, out_features=512, bias=True)\n",
      "    (1): ReLU()\n",
      "    (2): Linear(in_features=512, out_features=512, bias=True)\n",
      "    (3): ReLU()\n",
      "    (4): Linear(in_features=512, out_features=10, bias=True)\n",
      "  )\n",
      ")\n"
     ]
    }
   ],
   "source": [
    "#13\n",
    "class NeuralNetwork(nn.Module):\n",
    "    def __init__(self):\n",
    "        super().__init__()\n",
    "        self.flatten = nn.Flatten()\n",
    "        self.linear_relu_stack = nn.Sequential(\n",
    "            nn.Linear(28*28, 512),\n",
    "            nn.ReLU(),\n",
    "            nn.Linear(512, 512),\n",
    "            nn.ReLU(),\n",
    "            nn.Linear(512, 10),\n",
    "        )\n",
    "\n",
    "    def forward(self, x):\n",
    "        x = self.flatten(x)\n",
    "        logits = self.linear_relu_stack(x)\n",
    "        return logits\n",
    "\n",
    "model = NeuralNetwork().to(device)\n",
    "print(model)"
   ],
   "metadata": {
    "collapsed": false,
    "ExecuteTime": {
     "end_time": "2024-02-08T16:00:29.687494600Z",
     "start_time": "2024-02-08T16:00:29.631459100Z"
    }
   },
   "id": "cbb41444405466af"
  },
  {
   "cell_type": "code",
   "execution_count": 15,
   "outputs": [
    {
     "name": "stdout",
     "output_type": "stream",
     "text": [
      "Predicted class: tensor([2])\n"
     ]
    }
   ],
   "source": [
    "#14\n",
    "X = torch.rand(1, 28, 28, device=device)\n",
    "logits = model(X)\n",
    "pred_probab = nn.Softmax(dim=1)(logits)\n",
    "y_pred = pred_probab.argmax(1)\n",
    "print(f\"Predicted class: {y_pred}\")"
   ],
   "metadata": {
    "collapsed": false,
    "ExecuteTime": {
     "end_time": "2024-02-08T16:00:29.687494600Z",
     "start_time": "2024-02-08T16:00:29.658499400Z"
    }
   },
   "id": "e8bcaa4cdd0d2d2f"
  },
  {
   "cell_type": "code",
   "execution_count": 16,
   "outputs": [
    {
     "name": "stdout",
     "output_type": "stream",
     "text": [
      "torch.Size([3, 28, 28])\n"
     ]
    }
   ],
   "source": [
    "#15\n",
    "input_image = torch.rand(3,28,28)\n",
    "print(input_image.size())"
   ],
   "metadata": {
    "collapsed": false,
    "ExecuteTime": {
     "end_time": "2024-02-08T16:03:32.377342800Z",
     "start_time": "2024-02-08T16:03:32.311296200Z"
    }
   },
   "id": "a59b58f1971b82ab"
  },
  {
   "cell_type": "code",
   "execution_count": 17,
   "outputs": [
    {
     "name": "stdout",
     "output_type": "stream",
     "text": [
      "torch.Size([3, 784])\n"
     ]
    }
   ],
   "source": [
    "#16\n",
    "flatten = nn.Flatten()\n",
    "flat_image = flatten(input_image)\n",
    "print(flat_image.size())"
   ],
   "metadata": {
    "collapsed": false,
    "ExecuteTime": {
     "end_time": "2024-02-08T16:03:47.091242800Z",
     "start_time": "2024-02-08T16:03:46.953720900Z"
    }
   },
   "id": "74745e3c417b7506"
  },
  {
   "cell_type": "code",
   "execution_count": 18,
   "outputs": [
    {
     "name": "stdout",
     "output_type": "stream",
     "text": [
      "torch.Size([3, 20])\n"
     ]
    }
   ],
   "source": [
    "#17\n",
    "layer1 = nn.Linear(in_features=28*28, out_features=20)\n",
    "hidden1 = layer1(flat_image)\n",
    "print(hidden1.size())"
   ],
   "metadata": {
    "collapsed": false,
    "ExecuteTime": {
     "end_time": "2024-02-08T16:04:00.784373600Z",
     "start_time": "2024-02-08T16:04:00.654061100Z"
    }
   },
   "id": "a2ef902a3d6f32e0"
  },
  {
   "cell_type": "code",
   "execution_count": 19,
   "outputs": [
    {
     "name": "stdout",
     "output_type": "stream",
     "text": [
      "Before ReLU: tensor([[ 6.4856e-02, -4.2316e-01, -8.5155e-01, -1.1756e-01, -3.2106e-02,\n",
      "         -5.4321e-01, -1.0749e-01, -9.1400e-02,  1.2128e-01, -5.2399e-01,\n",
      "         -2.3292e-01, -2.4832e-01, -3.0595e-02,  8.3230e-01, -6.9209e-01,\n",
      "          5.0494e-01,  4.5998e-02, -9.5490e-02,  5.6728e-01,  2.3503e-01],\n",
      "        [ 1.4589e-01, -2.6119e-02, -1.0344e+00, -4.9591e-02, -3.6673e-01,\n",
      "         -2.1781e-01, -4.8564e-01, -2.9390e-01, -8.9469e-02, -2.5731e-01,\n",
      "         -1.2807e-01, -3.3165e-02,  1.3864e-02,  9.5503e-01, -4.1700e-01,\n",
      "          2.7623e-01, -1.2735e-04,  2.1558e-02,  7.3356e-01,  1.4439e-01],\n",
      "        [ 1.2546e-01, -2.2675e-01, -8.8932e-01,  1.1548e-01, -1.8812e-01,\n",
      "         -4.0079e-02, -7.1251e-01,  4.2186e-02, -7.9129e-02, -1.0010e-01,\n",
      "         -1.2016e-01, -2.9931e-02, -1.3913e-01,  7.0165e-01, -5.2697e-01,\n",
      "          4.7240e-01,  1.3789e-01,  1.0803e-01,  3.3929e-01,  1.7834e-01]],\n",
      "       grad_fn=<AddmmBackward0>)\n",
      "\n",
      "\n",
      "After ReLU: tensor([[0.0649, 0.0000, 0.0000, 0.0000, 0.0000, 0.0000, 0.0000, 0.0000, 0.1213,\n",
      "         0.0000, 0.0000, 0.0000, 0.0000, 0.8323, 0.0000, 0.5049, 0.0460, 0.0000,\n",
      "         0.5673, 0.2350],\n",
      "        [0.1459, 0.0000, 0.0000, 0.0000, 0.0000, 0.0000, 0.0000, 0.0000, 0.0000,\n",
      "         0.0000, 0.0000, 0.0000, 0.0139, 0.9550, 0.0000, 0.2762, 0.0000, 0.0216,\n",
      "         0.7336, 0.1444],\n",
      "        [0.1255, 0.0000, 0.0000, 0.1155, 0.0000, 0.0000, 0.0000, 0.0422, 0.0000,\n",
      "         0.0000, 0.0000, 0.0000, 0.0000, 0.7017, 0.0000, 0.4724, 0.1379, 0.1080,\n",
      "         0.3393, 0.1783]], grad_fn=<ReluBackward0>)\n"
     ]
    }
   ],
   "source": [
    "#18\n",
    "print(f\"Before ReLU: {hidden1}\\n\\n\")\n",
    "hidden1 = nn.ReLU()(hidden1)\n",
    "print(f\"After ReLU: {hidden1}\")"
   ],
   "metadata": {
    "collapsed": false,
    "ExecuteTime": {
     "end_time": "2024-02-08T16:04:18.759013Z",
     "start_time": "2024-02-08T16:04:18.684966900Z"
    }
   },
   "id": "b462e45b3e0bd6a7"
  },
  {
   "cell_type": "code",
   "execution_count": 20,
   "outputs": [],
   "source": [
    "#19\n",
    "seq_modules = nn.Sequential(\n",
    "    flatten,\n",
    "    layer1,\n",
    "    nn.ReLU(),\n",
    "    nn.Linear(20, 10)\n",
    ")\n",
    "input_image = torch.rand(3,28,28)\n",
    "logits = seq_modules(input_image)"
   ],
   "metadata": {
    "collapsed": false,
    "ExecuteTime": {
     "end_time": "2024-02-08T16:04:31.006103600Z",
     "start_time": "2024-02-08T16:04:30.907402300Z"
    }
   },
   "id": "882f93646a98b282"
  },
  {
   "cell_type": "code",
   "execution_count": 21,
   "outputs": [],
   "source": [
    "#20\n",
    "softmax = nn.Softmax(dim=1)\n",
    "pred_probab = softmax(logits)"
   ],
   "metadata": {
    "collapsed": false,
    "ExecuteTime": {
     "end_time": "2024-02-08T16:04:59.412086100Z",
     "start_time": "2024-02-08T16:04:59.303374400Z"
    }
   },
   "id": "5039b3840692069d"
  },
  {
   "cell_type": "code",
   "execution_count": 22,
   "outputs": [
    {
     "name": "stdout",
     "output_type": "stream",
     "text": [
      "Model structure: NeuralNetwork(\n",
      "  (flatten): Flatten(start_dim=1, end_dim=-1)\n",
      "  (linear_relu_stack): Sequential(\n",
      "    (0): Linear(in_features=784, out_features=512, bias=True)\n",
      "    (1): ReLU()\n",
      "    (2): Linear(in_features=512, out_features=512, bias=True)\n",
      "    (3): ReLU()\n",
      "    (4): Linear(in_features=512, out_features=10, bias=True)\n",
      "  )\n",
      ")\n",
      "\n",
      "\n",
      "Layer: linear_relu_stack.0.weight | Size: torch.Size([512, 784]) | Values : tensor([[ 0.0136, -0.0139,  0.0154,  ..., -0.0129,  0.0189, -0.0189],\n",
      "        [ 0.0005, -0.0094, -0.0165,  ...,  0.0176, -0.0182, -0.0065]],\n",
      "       grad_fn=<SliceBackward0>) \n",
      "\n",
      "Layer: linear_relu_stack.0.bias | Size: torch.Size([512]) | Values : tensor([-0.0079, -0.0195], grad_fn=<SliceBackward0>) \n",
      "\n",
      "Layer: linear_relu_stack.2.weight | Size: torch.Size([512, 512]) | Values : tensor([[-0.0371,  0.0168, -0.0069,  ...,  0.0342, -0.0066, -0.0224],\n",
      "        [ 0.0080,  0.0067, -0.0044,  ...,  0.0119,  0.0427, -0.0094]],\n",
      "       grad_fn=<SliceBackward0>) \n",
      "\n",
      "Layer: linear_relu_stack.2.bias | Size: torch.Size([512]) | Values : tensor([-0.0122, -0.0234], grad_fn=<SliceBackward0>) \n",
      "\n",
      "Layer: linear_relu_stack.4.weight | Size: torch.Size([10, 512]) | Values : tensor([[ 0.0415, -0.0422, -0.0435,  ...,  0.0015,  0.0406,  0.0220],\n",
      "        [ 0.0264, -0.0006, -0.0359,  ..., -0.0287,  0.0277,  0.0327]],\n",
      "       grad_fn=<SliceBackward0>) \n",
      "\n",
      "Layer: linear_relu_stack.4.bias | Size: torch.Size([10]) | Values : tensor([0.0364, 0.0352], grad_fn=<SliceBackward0>) \n"
     ]
    }
   ],
   "source": [
    "#21\n",
    "print(f\"Model structure: {model}\\n\\n\")\n",
    "\n",
    "for name, param in model.named_parameters():\n",
    "    print(f\"Layer: {name} | Size: {param.size()} | Values : {param[:2]} \\n\")"
   ],
   "metadata": {
    "collapsed": false,
    "ExecuteTime": {
     "end_time": "2024-02-08T16:05:19.758643500Z",
     "start_time": "2024-02-08T16:05:19.615747700Z"
    }
   },
   "id": "5145a46bdb28f33e"
  }
 ],
 "metadata": {
  "kernelspec": {
   "display_name": "Python 3",
   "language": "python",
   "name": "python3"
  },
  "language_info": {
   "codemirror_mode": {
    "name": "ipython",
    "version": 2
   },
   "file_extension": ".py",
   "mimetype": "text/x-python",
   "name": "python",
   "nbconvert_exporter": "python",
   "pygments_lexer": "ipython2",
   "version": "2.7.6"
  }
 },
 "nbformat": 4,
 "nbformat_minor": 5
}
